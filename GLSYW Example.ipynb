{
 "cells": [
  {
   "cell_type": "code",
   "execution_count": 1,
   "metadata": {},
   "outputs": [
    {
     "name": "stderr",
     "output_type": "stream",
     "text": [
      "/home/tim/anaconda3/lib/python3.6/site-packages/statsmodels/compat/pandas.py:56: FutureWarning: The pandas.core.datetools module is deprecated and will be removed in a future version. Please use the pandas.tseries module instead.\n",
      "  from pandas.core import datetools\n"
     ]
    }
   ],
   "source": [
    "import numpy as np\n",
    "from linear_model import GLSYW\n",
    "import pandas as pd\n",
    "from pandas import DataFrame, Series\n",
    "import statsmodels.api as sma\n",
    "%matplotlib inline "
   ]
  },
  {
   "cell_type": "code",
   "execution_count": 2,
   "metadata": {
    "collapsed": true
   },
   "outputs": [],
   "source": [
    "e = np.zeros([100,1])\n",
    "for i in range(99):\n",
    "    e[i + 1] = 0.7*e[i] + np.random.randn(1)/10"
   ]
  },
  {
   "cell_type": "code",
   "execution_count": 3,
   "metadata": {
    "collapsed": true
   },
   "outputs": [],
   "source": [
    "beta = np.random.randn(4,1)\n",
    "x = np.random.randn(100,4)\n",
    "y = 0.6 + x.dot(beta) + e"
   ]
  },
  {
   "cell_type": "code",
   "execution_count": 4,
   "metadata": {},
   "outputs": [
    {
     "name": "stdout",
     "output_type": "stream",
     "text": [
      "                           GLSYW Regression Results                           \n",
      "==============================================================================\n",
      "Dep. Variable:                      y   R-squared:                       0.999\n",
      "Model:                          GLSYW   Adj. R-squared:                  0.999\n",
      "Method:                 Least Squares   F-statistic:                 1.494e+04\n",
      "Date:                Thu, 26 Oct 2017   Prob (F-statistic):          1.05e-137\n",
      "Time:                        22:29:35   Log-Likelihood:                 93.230\n",
      "No. Observations:                 100   AIC:                            -172.5\n",
      "Df Residuals:                      94   BIC:                            -154.2\n",
      "Df Model:                           6                                         \n",
      "Covariance Type:            nonrobust                                         \n",
      "==============================================================================\n",
      "                 coef    std err          t      P>|t|      [0.025      0.975]\n",
      "------------------------------------------------------------------------------\n",
      "const          0.5882      0.034     17.337      0.000       0.521       0.656\n",
      "x1             1.8236      0.008    221.663      0.000       1.807       1.840\n",
      "x2             0.7025      0.008     82.987      0.000       0.686       0.719\n",
      "x3            -0.9238      0.008   -108.881      0.000      -0.941      -0.907\n",
      "x4            -0.4034      0.008    -52.240      0.000      -0.419      -0.388\n",
      "==============================================================================\n",
      "Omnibus:                        1.440   Durbin-Watson:                   1.766\n",
      "Prob(Omnibus):                  0.487   Jarque-Bera (JB):                1.062\n",
      "Skew:                          -0.245   Prob(JB):                        0.588\n",
      "Kurtosis:                       3.122   Cond. No.                         4.94\n",
      "==============================================================================\n",
      "\n",
      "Warnings:\n",
      "[1] Standard Errors assume that the covariance matrix of the errors is correctly specified.\n"
     ]
    }
   ],
   "source": [
    "model = GLSYW(y, sma.add_constant(x), ar=1)\n",
    "fit = model.fit()\n",
    "print(fit.summary())"
   ]
  },
  {
   "cell_type": "code",
   "execution_count": 5,
   "metadata": {},
   "outputs": [
    {
     "name": "stdout",
     "output_type": "stream",
     "text": [
      "[ 0.71833622] [ 0.07175557]\n"
     ]
    }
   ],
   "source": [
    "print(fit.model.yw_coef, fit.model.yw_std)"
   ]
  },
  {
   "cell_type": "code",
   "execution_count": null,
   "metadata": {
    "collapsed": true
   },
   "outputs": [],
   "source": []
  }
 ],
 "metadata": {
  "kernelspec": {
   "display_name": "Python 3",
   "language": "python",
   "name": "python3"
  },
  "language_info": {
   "codemirror_mode": {
    "name": "ipython",
    "version": 3
   },
   "file_extension": ".py",
   "mimetype": "text/x-python",
   "name": "python",
   "nbconvert_exporter": "python",
   "pygments_lexer": "ipython3",
   "version": "3.6.1"
  }
 },
 "nbformat": 4,
 "nbformat_minor": 2
}
