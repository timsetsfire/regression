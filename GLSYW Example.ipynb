{
 "cells": [
  {
   "cell_type": "code",
   "execution_count": 21,
   "metadata": {},
   "outputs": [],
   "source": [
    "import numpy as np\n",
    "from linear_model import GLSYW\n",
    "import pandas as pd\n",
    "from pandas import DataFrame, Series\n",
    "import statsmodels.api as sma\n",
    "%matplotlib inline "
   ]
  },
  {
   "cell_type": "code",
   "execution_count": 22,
   "metadata": {
    "collapsed": true
   },
   "outputs": [],
   "source": [
    "e = np.zeros([100,1])\n",
    "for i in range(99):\n",
    "    e[i + 1] = 0.7*e[i] + np.random.randn(1)/10"
   ]
  },
  {
   "cell_type": "code",
   "execution_count": 23,
   "metadata": {},
   "outputs": [],
   "source": [
    "beta = np.random.randn(4,1)\n",
    "x = np.random.randn(100,4)\n",
    "y = 0.6 + x.dot(beta) + e"
   ]
  },
  {
   "cell_type": "code",
   "execution_count": 28,
   "metadata": {},
   "outputs": [
    {
     "name": "stdout",
     "output_type": "stream",
     "text": [
      "                           GLSYW Regression Results                           \n",
      "==============================================================================\n",
      "Dep. Variable:                      y   R-squared:                       0.997\n",
      "Model:                          GLSYW   Adj. R-squared:                  0.997\n",
      "Method:                 Least Squares   F-statistic:                     5481.\n",
      "Date:                Thu, 26 Oct 2017   Prob (F-statistic):          2.81e-117\n",
      "Time:                        20:06:56   Log-Likelihood:                 75.612\n",
      "No. Observations:                 100   AIC:                            -137.2\n",
      "Df Residuals:                      94   BIC:                            -119.0\n",
      "Df Model:                           6                                         \n",
      "Covariance Type:            nonrobust                                         \n",
      "==============================================================================\n",
      "                 coef    std err          t      P>|t|      [0.025      0.975]\n",
      "------------------------------------------------------------------------------\n",
      "const          0.5861      0.021     27.393      0.000       0.544       0.629\n",
      "x1            -1.0444      0.012    -89.489      0.000      -1.068      -1.021\n",
      "x2             0.2206      0.012     19.091      0.000       0.198       0.244\n",
      "x3             0.4155      0.014     29.700      0.000       0.388       0.443\n",
      "x4             1.7289      0.011    154.782      0.000       1.707       1.751\n",
      "==============================================================================\n",
      "Omnibus:                        0.359   Durbin-Watson:                   1.741\n",
      "Prob(Omnibus):                  0.836   Jarque-Bera (JB):                0.297\n",
      "Skew:                          -0.131   Prob(JB):                        0.862\n",
      "Kurtosis:                       2.945   Cond. No.                         1.97\n",
      "==============================================================================\n",
      "\n",
      "Warnings:\n",
      "[1] Standard Errors assume that the covariance matrix of the errors is correctly specified.\n"
     ]
    }
   ],
   "source": [
    "model = GLSYW(y, sma.add_constant(x), ar=1)\n",
    "fit = model.fit()\n",
    "print(fit.summary())"
   ]
  },
  {
   "cell_type": "code",
   "execution_count": 29,
   "metadata": {},
   "outputs": [
    {
     "name": "stdout",
     "output_type": "stream",
     "text": [
      "[ 0.45465291] [ 0.09186546]\n"
     ]
    }
   ],
   "source": [
    "print(fit.model.yw_coef, fit.model.yw_std)"
   ]
  },
  {
   "cell_type": "code",
   "execution_count": null,
   "metadata": {
    "collapsed": true
   },
   "outputs": [],
   "source": []
  }
 ],
 "metadata": {
  "kernelspec": {
   "display_name": "Python 3",
   "language": "python",
   "name": "python3"
  },
  "language_info": {
   "codemirror_mode": {
    "name": "ipython",
    "version": 3
   },
   "file_extension": ".py",
   "mimetype": "text/x-python",
   "name": "python",
   "nbconvert_exporter": "python",
   "pygments_lexer": "ipython3",
   "version": "3.6.1"
  }
 },
 "nbformat": 4,
 "nbformat_minor": 2
}
