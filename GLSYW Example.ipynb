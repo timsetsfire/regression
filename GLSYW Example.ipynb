{
 "cells": [
  {
   "cell_type": "code",
   "execution_count": 1,
   "metadata": {},
   "outputs": [
    {
     "name": "stderr",
     "output_type": "stream",
     "text": [
      "C:\\Users\\Whittakert\\Anaconda3\\lib\\site-packages\\statsmodels\\compat\\pandas.py:56: FutureWarning: The pandas.core.datetools module is deprecated and will be removed in a future version. Please use the pandas.tseries module instead.\n",
      "  from pandas.core import datetools\n"
     ]
    }
   ],
   "source": [
    "import numpy as np\n",
    "from linear_model import GLSYW\n",
    "import pandas as pd\n",
    "from pandas import DataFrame, Series\n",
    "import statsmodels.api as sma\n",
    "%matplotlib inline "
   ]
  },
  {
   "cell_type": "code",
   "execution_count": 2,
   "metadata": {
    "collapsed": true
   },
   "outputs": [],
   "source": [
    "e = np.zeros([100,1])\n",
    "for i in range(99):\n",
    "    e[i + 1] = 0.7*e[i] + np.random.randn(1)"
   ]
  },
  {
   "cell_type": "code",
   "execution_count": 3,
   "metadata": {
    "collapsed": true
   },
   "outputs": [],
   "source": [
    "beta = np.random.randn(4,1)\n",
    "x = np.random.randn(100,4)\n",
    "y = 0.6 + x.dot(beta) + e"
   ]
  },
  {
   "cell_type": "code",
   "execution_count": 4,
   "metadata": {},
   "outputs": [
    {
     "name": "stdout",
     "output_type": "stream",
     "text": [
      "                           GLSYW Regression Results                           \n",
      "==============================================================================\n",
      "Dep. Variable:                      y   R-squared:                       0.833\n",
      "Model:                          GLSYW   Adj. R-squared:                  0.824\n",
      "Method:                 Least Squares   F-statistic:                     78.07\n",
      "Date:                Fri, 27 Oct 2017   Prob (F-statistic):           2.51e-34\n",
      "Time:                        11:07:34   Log-Likelihood:                -147.53\n",
      "No. Observations:                 100   AIC:                             309.1\n",
      "Df Residuals:                      94   BIC:                             327.3\n",
      "Df Model:                           6                                         \n",
      "Covariance Type:            nonrobust                                         \n",
      "==============================================================================\n",
      "                 coef    std err          t      P>|t|      [0.025      0.975]\n",
      "------------------------------------------------------------------------------\n",
      "const          0.6781      0.289      2.349      0.021       0.105       1.251\n",
      "x1             0.4551      0.092      4.961      0.000       0.273       0.637\n",
      "x2            -1.8316      0.095    -19.211      0.000      -2.021      -1.642\n",
      "x3            -1.1872      0.101    -11.710      0.000      -1.388      -0.986\n",
      "x4            -0.1165      0.099     -1.179      0.241      -0.313       0.080\n",
      "==============================================================================\n",
      "Omnibus:                        1.691   Durbin-Watson:                   1.763\n",
      "Prob(Omnibus):                  0.429   Jarque-Bera (JB):                1.150\n",
      "Skew:                           0.126   Prob(JB):                        0.563\n",
      "Kurtosis:                       3.461   Cond. No.                         3.35\n",
      "==============================================================================\n",
      "\n",
      "Warnings:\n",
      "[1] Standard Errors assume that the covariance matrix of the errors is correctly specified.\n"
     ]
    }
   ],
   "source": [
    "model = GLSYW(y, sma.add_constant(x), ar=1)\n",
    "fit = model.fit()\n",
    "print(fit.summary())\n"
   ]
  },
  {
   "cell_type": "code",
   "execution_count": 5,
   "metadata": {},
   "outputs": [
    {
     "name": "stdout",
     "output_type": "stream",
     "text": [
      "                       Estimates of Autocorrelations                        \n",
      "============================================================================\n",
      "Lag Autocovariance Autocorrelation -1                  0                   1\n",
      "----------------------------------------------------------------------------\n",
      " 0  2.16597525771        1.0                           |********************\n",
      " 1   1.3607685223   0.628247491497                     |*************       \n",
      "----------------------------------------------------------------------------\n",
      "     Estimates of Autoregressive Parameters     \n",
      "================================================\n",
      "Lag  Coefficient    Standard Error    t Value   \n",
      "------------------------------------------------\n",
      " 1  0.628247491497 0.0802459708956 7.82902224853\n",
      "------------------------------------------------\n"
     ]
    }
   ],
   "source": [
    "print(fit.model.acorr_estimates())\n",
    "print(fit.model.ar_params())"
   ]
  },
  {
   "cell_type": "code",
   "execution_count": null,
   "metadata": {
    "collapsed": true
   },
   "outputs": [],
   "source": []
  }
 ],
 "metadata": {
  "kernelspec": {
   "display_name": "Python 3",
   "language": "python",
   "name": "python3"
  },
  "language_info": {
   "codemirror_mode": {
    "name": "ipython",
    "version": 3
   },
   "file_extension": ".py",
   "mimetype": "text/x-python",
   "name": "python",
   "nbconvert_exporter": "python",
   "pygments_lexer": "ipython3",
   "version": "3.5.1"
  }
 },
 "nbformat": 4,
 "nbformat_minor": 2
}
